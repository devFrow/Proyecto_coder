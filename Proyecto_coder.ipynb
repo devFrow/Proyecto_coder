{
 "cells": [
  {
   "cell_type": "markdown",
   "metadata": {},
   "source": [
    "# Info\n",
    "\n",
    "La información sobre los porque y contexto del proyecto así como su información acerca de las variables fue guardada en Github (https://github.com/devFrow/Proyecto_trancitorio.git)\n",
    "para una mayor comodidad a la hora de trabajar con el código. \n"
   ]
  },
  {
   "cell_type": "markdown",
   "metadata": {},
   "source": [
    "### Comienzo \n",
    "\n",
    "El tratado de duplicados y nulos se hace en el archivo Tratamiento_nulos.ipynb que se encuentra dentro del mismo repositorio. \n",
    "Aquí vamos a comenzar directamente con el EDA. "
   ]
  },
  {
   "cell_type": "markdown",
   "metadata": {},
   "source": [
    "| **Alrededores y Forma** | **Ubicación**  | **Tamaños** | **Estilos** | **Estados** | **Tiempo** | **Techo** | **Revestimiento** | **Porch** | **Venta** |\n",
    "|---------------------|------------|---------|---------|---------|--------|-------|---------------|-------|-------|\n",
    "|Street|MSZoning|LotFrontage|MSSubClass|OverallQual|YearBuilt|\tRoofMatl|\tExterior1st|\tOpenPorchSF|\tSaleType|\n",
    "|Alley|\tNeighborhood|\tLotArea\t|BldgType|\tOverallCond|\tYearRemodAdd|\tRoofStyle|\tExterior2nd|\tEnclosedPorch|\tSaleCondition|\n",
    "LotShape|\tCondition1|\tTotalBsmtSF|HouseStyle|Functional|\tMoSold|\t\t|MasVnrType|\t3SsnPorch|\t|\n",
    "LandContour|\tCondition2|\t1stFlrSF|\t|\t|YrSold\t|\t|MasVnrArea|\tScreenPorch\t||\n",
    "LotConfig|\t|\t2ndFlrSF|\t\t|\t|||\t\tExterQual|||\n",
    "LandSlope||\t\tLowQualFinSF|||||\t\t\t\t\tExterCond|||\t\t\n",
    "|||GrLivArea||||||||\t\n",
    "\n",
    "\\n\n",
    "\n",
    "|**Cimientos**|**Sótano**|**Calefacción/Aire**|**Servicios**|**Baños**|**Habitaciones**|**Cocina**|**Garage**|**Extras**|\n",
    "|-------------|----------|--------------------|-------------|---------|----------------|----------|----------|----------|\n",
    "Foundation|BsmtQual|Heating|Utilities|BsmtFullBath|Bedroom|Kitchen|GarageType|WoodDeckSF|\n",
    "||BsmtCond|HeatingQC|Electrical|BsmtHalfBath|TotRmsAbvGrd|KitchenQual|GarageYrBlt|PoolArea|\n",
    "||BsmtExposure|CentralAir||FullBath|||GarageFinish|\tPoolQC|\n",
    "||BsmtFinType1|Fireplaces||HalfBath|||GarageCars|Fence|\n",
    "||BsmtFinSF1|FireplaceQu|||||GarageArea|MiscFeature|\n",
    "||BsmtFinType2||||||GarageQual|MiscVal|\n",
    "||BsmtFinSF2||||||GarageCond||\n",
    "||BsmtUnfSF||||||PavedDrive||"
   ]
  },
  {
   "cell_type": "markdown",
   "metadata": {},
   "source": [
    "Esta es toda la data separada por categorías para estudiarla en conjuntos."
   ]
  },
  {
   "cell_type": "code",
   "execution_count": null,
   "metadata": {},
   "outputs": [],
   "source": [
    "import pandas as pd\n",
    "import numpy as np \n",
    "import matplotlib as mpl\n",
    "import matplotlib.pyplot as plt \n",
    "import seaborn as sns "
   ]
  },
  {
   "cell_type": "code",
   "execution_count": null,
   "metadata": {},
   "outputs": [],
   "source": []
  },
  {
   "cell_type": "markdown",
   "metadata": {},
   "source": [
    "#### Alrededores y forma.\n",
    "\n",
    "Donde se encuentran las variables **Street**, **Alley**, **LotShape**, **landContour**, **LotConfig** y **LandSlope**"
   ]
  },
  {
   "cell_type": "markdown",
   "metadata": {},
   "source": [
    "**Street** \n",
    "La variable habla del tipo de acceso a la vivienda. \n",
    "\n",
    "Grvl -\tGravel  \n",
    "Pave -\tPaved"
   ]
  },
  {
   "cell_type": "code",
   "execution_count": null,
   "metadata": {},
   "outputs": [],
   "source": []
  }
 ],
 "metadata": {
  "language_info": {
   "name": "python"
  }
 },
 "nbformat": 4,
 "nbformat_minor": 2
}
